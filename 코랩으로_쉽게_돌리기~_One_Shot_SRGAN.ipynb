{
  "nbformat": 4,
  "nbformat_minor": 0,
  "metadata": {
    "colab": {
      "provenance": [],
      "machine_shape": "hm"
    },
    "kernelspec": {
      "name": "python3",
      "display_name": "Python 3"
    },
    "language_info": {
      "name": "python"
    },
    "accelerator": "GPU",
    "gpuClass": "standard"
  },
  "cells": [
    {
      "cell_type": "markdown",
      "source": [
        "# ⭐️ One-Shot-SRGAN ⭐️\n",
        "\n",
        "딥러닝 기술 중 하나인 Super-Resolution Generative Adversarial Network (SRGAN)은 2017년에 발표된 논문입니다. 이 논문은 이미지의 해상도를 높이는 기술 중 하나로서, 저해상도 이미지를 고해상도 이미지로 변환하는 것을 목표로 합니다.\n",
        "\n",
        "SRGAN은 기존의 Super-Resolution 기술들과 달리, Generative Adversarial Network(GAN)을 활용하여 생성된 이미지의 질을 향상시키는 방법을 사용합니다. SRGAN은 먼저, 저해상도 이미지를 고해상도 이미지로 변환하는 Generator 네트워크를 구성합니다. 그 후, 생성된 고해상도 이미지가 진짜 고해상도 이미지와 구별되지 않도록 학습하는 Discriminator 네트워크를 구성합니다.\n",
        "\n",
        "SRGAN은 기존의 Super-Resolution 기술들과 달리, 딥러닝을 통해 이미지의 세부 정보를 보다 정확하게 복원하고, 실제 이미지와 유사한 고해상도 이미지를 생성할 수 있습니다. 논문에서는 SRGAN을 활용하여 고해상도 이미지의 화질을 향상시키는 실험을 수행하였으며, 이를 통해 SRGAN이 기존의 Super-Resolution 기술들보다 뛰어난 성능을 보여준다는 것을 입증하였습니다.\n",
        "\n",
        "SRGAN은 딥러닝 기술의 발전에 큰 기여를 하였으며, 이미지 분야에서 다양한 응용이 가능합니다. 예를 들어, 의료 이미지에서 고해상도 이미지를 생성함으로써 의사들이 보다 정확한 진단을 내릴 수 있게 되는 등의 효과가 있을 것으로 기대됩니다."
      ],
      "metadata": {
        "id": "rdG3QP0OMa2Q"
      }
    },
    {
      "cell_type": "markdown",
      "source": [
        "## ⭐️ Ready ⭐️"
      ],
      "metadata": {
        "id": "jk1THAzLMfI4"
      }
    },
    {
      "cell_type": "code",
      "execution_count": null,
      "metadata": {
        "id": "fvkEM6h4ZHJm"
      },
      "outputs": [],
      "source": [
        "! pip install GPUtil\n",
        "!git clone https://github.com/ugiugi0823/SRGAN-From-Scratch.git"
      ]
    },
    {
      "cell_type": "markdown",
      "source": [
        "### ⭐️ 생성될 가짜 이미지와, 진짜 이미지가 img 폴더에 저장될 예정입니다!\n",
        "\n",
        "그래서 img 폴더를 만들어 줘야 해요!\n",
        "\n",
        "```\n",
        "- img \n",
        "  - lr_real\n",
        "  - hr_fake\n",
        "  - hr_real \n",
        "\n",
        "```"
      ],
      "metadata": {
        "id": "nN5MHdF4Mltd"
      }
    },
    {
      "cell_type": "code",
      "source": [
        "%cd /content/SRGAN-From-Scratch\n",
        "!mkdir img_srr\n",
        "!mkdir img_srg\n",
        "!mkdir model"
      ],
      "metadata": {
        "colab": {
          "base_uri": "https://localhost:8080/"
        },
        "id": "21cN1_oZ4VyG",
        "outputId": "70093d31-baa5-4a79-ec21-453cc9ef6484"
      },
      "execution_count": 35,
      "outputs": [
        {
          "output_type": "stream",
          "name": "stdout",
          "text": [
            "/content/SRGAN-From-Scratch\n",
            "mkdir: cannot create directory ‘model’: File exists\n"
          ]
        }
      ]
    },
    {
      "cell_type": "code",
      "source": [
        "%cd /content/SRGAN-From-Scratch/img_srr\n",
        "!mkdir lr_real\n",
        "!mkdir hr_fake\n",
        "!mkdir hr_real "
      ],
      "metadata": {
        "colab": {
          "base_uri": "https://localhost:8080/"
        },
        "id": "iGkLc3BtNSWU",
        "outputId": "86df27fd-b6bc-49c5-9278-8700404c8953"
      },
      "execution_count": 36,
      "outputs": [
        {
          "output_type": "stream",
          "name": "stdout",
          "text": [
            "/content/SRGAN-From-Scratch/img_srr\n"
          ]
        }
      ]
    },
    {
      "cell_type": "code",
      "source": [
        "%cd /content/SRGAN-From-Scratch/img_srg\n",
        "!mkdir lr_real\n",
        "!mkdir hr_fake\n",
        "!mkdir hr_real "
      ],
      "metadata": {
        "colab": {
          "base_uri": "https://localhost:8080/"
        },
        "id": "DlA05LyK_kye",
        "outputId": "6c6e47a7-3f2b-4bf8-f022-5d152f3039a8"
      },
      "execution_count": 37,
      "outputs": [
        {
          "output_type": "stream",
          "name": "stdout",
          "text": [
            "/content/SRGAN-From-Scratch/img_srg\n"
          ]
        }
      ]
    },
    {
      "cell_type": "markdown",
      "source": [
        "## ⭐️ srresnet 학습을 시작해볼까요? ⭐️"
      ],
      "metadata": {
        "id": "klHBM_awNhqT"
      }
    },
    {
      "cell_type": "code",
      "source": [
        "import gc\n",
        "gc.collect()"
      ],
      "metadata": {
        "colab": {
          "base_uri": "https://localhost:8080/"
        },
        "id": "a7R__FDvikPK",
        "outputId": "f78d6c2f-62d4-4c4e-f931-3e5f803b4d22"
      },
      "execution_count": 18,
      "outputs": [
        {
          "output_type": "execute_result",
          "data": {
            "text/plain": [
              "20"
            ]
          },
          "metadata": {},
          "execution_count": 18
        }
      ]
    },
    {
      "cell_type": "code",
      "source": [
        "import torch\n",
        "torch.cuda.empty_cache() "
      ],
      "metadata": {
        "id": "pO8eW6KHinar"
      },
      "execution_count": 24,
      "outputs": []
    },
    {
      "cell_type": "code",
      "source": [
        "%matplotlib inline\n",
        "%cd /content/SRGAN-From-Scratch\n",
        "!python train_srres.py"
      ],
      "metadata": {
        "id": "oBAn9VZa3zMM"
      },
      "execution_count": null,
      "outputs": []
    },
    {
      "cell_type": "code",
      "source": [
        "%matplotlib inline\n",
        "%cd /content/SRGAN-From-Scratch\n",
        "\n",
        "CMD = \"python train_srres.py \"\\\n",
        "      \"--epochs 1e5 \"\\\n",
        "      \"--batch_size 16 \"\\\n",
        "      \"--display_step 500 \"\\\n",
        "      \"--device cuda \"\\\n",
        "      \"--lr 1e-4 \"\n",
        "!{CMD}"
      ],
      "metadata": {
        "id": "tC3VLlQ6a-co"
      },
      "execution_count": null,
      "outputs": []
    },
    {
      "cell_type": "markdown",
      "source": [
        "## ⭐️ 학습된 이미지 결과를 확인해볼까요? ⭐️ \n",
        "\n",
        "- 학습을 100.000번 했을거예요!\n",
        "- 500번씩 나누어서 이미지를 저장했어요!\n",
        "- epoch 을 1 ~ 200 을 넣어주세요\n"
      ],
      "metadata": {
        "id": "kYy1y5y0N9By"
      }
    },
    {
      "cell_type": "code",
      "source": [
        "%cd /content/SRGAN-From-Scratch\n",
        "from utils import show_images\n",
        "\n",
        "# 요기요기요기요기\n",
        "# 200번 돌렸어요!\n",
        "\n",
        "epoch = 1\n",
        "\n",
        "print('====진짜 저화질 이미지====')\n",
        "show_images(f'./img_srr/lr_real/lr_real_{epoch*500}.jpg')\n",
        "print('====진짜 고화질 이미지====')\n",
        "show_images(f'./img_srr/hr_real/hr_real_{epoch*500}.jpg')\n",
        "print('====우리가 생성한 가짜 고화질 이미지====')\n",
        "show_images(f'./img_srr/hr_fake/hr_fake_{epoch*500}.jpg')"
      ],
      "metadata": {
        "colab": {
          "base_uri": "https://localhost:8080/",
          "height": 304
        },
        "id": "2fv_f748MVW8",
        "outputId": "f513d594-6580-4112-b5de-c788580248a2"
      },
      "execution_count": 16,
      "outputs": [
        {
          "output_type": "stream",
          "name": "stdout",
          "text": [
            "/content/SRGAN-From-Scratch\n",
            "====진짜 저화질 이미지====\n"
          ]
        },
        {
          "output_type": "display_data",
          "data": {
            "text/plain": [
              "<PIL.Image.Image image mode=RGB size=24x24 at 0x7F0B526D1E20>"
            ],
            "image/png": "[encoded data removed]"
          },
          "metadata": {}
        },
        {
          "output_type": "stream",
          "name": "stdout",
          "text": [
            "====진짜 고화질 이미지====\n"
          ]
        },
        {
          "output_type": "display_data",
          "data": {
            "text/plain": [
              "<PIL.Image.Image image mode=RGB size=96x96 at 0x7F0A95C6AB20>"
            ],
            "image/png": "[encoded data removed]"
          },
          "metadata": {}
        },
        {
          "output_type": "stream",
          "name": "stdout",
          "text": [
            "====우리가 생성한 가짜 고화질 이미지====\n"
          ]
        },
        {
          "output_type": "display_data",
          "data": {
            "text/plain": [
              "<PIL.Image.Image image mode=RGB size=96x96 at 0x7F0A95C6ADF0>"
            ],
            "image/png": "[encoded data removed]"
          },
          "metadata": {}
        }
      ]
    },
    {
      "cell_type": "markdown",
      "source": [
        "## ⭐️ srresnet을 활용해서 이제 SRGAN을 만들어볼거예요! ⭐️"
      ],
      "metadata": {
        "id": "2U7xWFKEBiac"
      }
    },
    {
      "cell_type": "code",
      "source": [
        "%matplotlib inline\n",
        "%cd /content/SRGAN-From-Scratch\n",
        "\n",
        "CMD = \"python train_srg.py \"\\\n",
        "      \"--epochs 2e5 \"\\\n",
        "      \"--batch_size 16 \"\\\n",
        "      \"--display_step 500 \"\\\n",
        "      \"--device cuda \"\\\n",
        "      \"--lr 1e-4 \"\\\n",
        "      \"--gen_path ./model/srresnet.pt \"\\\n",
        "      \n",
        "!{CMD}"
      ],
      "metadata": {
        "colab": {
          "base_uri": "https://localhost:8080/"
        },
        "id": "AjnZg7hdBlKQ",
        "outputId": "cf4e722f-25b5-45d6-d69a-f27c9b510e11"
      },
      "execution_count": null,
      "outputs": [
        {
          "output_type": "stream",
          "name": "stdout",
          "text": [
            "/content/SRGAN-From-Scratch\n",
            "/usr/local/lib/python3.9/dist-packages/torchvision/models/_utils.py:208: UserWarning: The parameter 'pretrained' is deprecated since 0.13 and may be removed in the future, please use 'weights' instead.\n",
            "  warnings.warn(\n",
            "/usr/local/lib/python3.9/dist-packages/torchvision/models/_utils.py:223: UserWarning: Arguments other than a weight enum or `None` for 'weights' are deprecated since 0.13 and may be removed in the future. The current behavior is equivalent to passing `weights=VGG19_Weights.IMAGENET1K_V1`. You can also use `weights=VGG19_Weights.DEFAULT` to get the most up-to-date weights.\n",
            "  warnings.warn(msg)\n",
            "Files already downloaded and verified\n",
            "100% 313/313 [00:27<00:00, 11.24it/s]\n",
            " 59% 186/313 [00:16<00:11, 11.43it/s]Step 500: Generator loss: 0.02768, Discriminator loss: 0.69422\n",
            "Figure(640x480)\n",
            "Figure(640x480)\n",
            "Figure(640x480)\n",
            "| ID | GPU | MEM |\n",
            "------------------\n",
            "|  0 | 30% |  6% |\n",
            "100% 313/313 [00:27<00:00, 11.42it/s]\n",
            "100% 313/313 [00:27<00:00, 11.57it/s]\n",
            " 19% 60/313 [00:05<00:21, 11.52it/s]Step 1000: Generator loss: 0.02741, Discriminator loss: 0.68863\n",
            "Figure(640x480)\n",
            "Figure(640x480)\n",
            "Figure(640x480)\n",
            "| ID | GPU | MEM |\n",
            "------------------\n",
            "|  0 | 61% |  6% |\n",
            "100% 313/313 [00:27<00:00, 11.46it/s]\n",
            " 79% 248/313 [00:21<00:05, 11.65it/s]Step 1500: Generator loss: 0.02740, Discriminator loss: 0.68269\n",
            "Figure(640x480)\n",
            "Figure(640x480)\n",
            "Figure(640x480)\n",
            "| ID | GPU | MEM |\n",
            "------------------\n",
            "|  0 | 32% |  6% |\n",
            "100% 313/313 [00:27<00:00, 11.51it/s]\n",
            "100% 313/313 [00:27<00:00, 11.56it/s]\n",
            " 39% 122/313 [00:10<00:16, 11.65it/s]Step 2000: Generator loss: 0.02712, Discriminator loss: 0.67523\n",
            "Figure(640x480)\n",
            "Figure(640x480)\n",
            "Figure(640x480)\n",
            "| ID | GPU | MEM |\n",
            "------------------\n",
            "|  0 | 71% |  6% |\n",
            "100% 313/313 [00:27<00:00, 11.51it/s]\n",
            " 98% 308/313 [00:26<00:00, 11.48it/s]Step 2500: Generator loss: 0.02730, Discriminator loss: 0.66655\n",
            "Figure(640x480)\n",
            "Figure(640x480)\n",
            "Figure(640x480)\n",
            "| ID | GPU | MEM |\n",
            "------------------\n",
            "|  0 | 61% |  6% |\n",
            "100% 313/313 [00:27<00:00, 11.53it/s]\n",
            "100% 313/313 [00:27<00:00, 11.55it/s]\n",
            " 58% 182/313 [00:15<00:11, 11.56it/s]Step 3000: Generator loss: 0.02717, Discriminator loss: 0.65713\n",
            "Figure(640x480)\n",
            "Figure(640x480)\n",
            "Figure(640x480)\n",
            "| ID | GPU | MEM |\n",
            "------------------\n",
            "|  0 | 56% |  6% |\n",
            "100% 313/313 [00:27<00:00, 11.54it/s]\n",
            "100% 313/313 [00:27<00:00, 11.51it/s]\n",
            " 18% 56/313 [00:04<00:22, 11.61it/s]Step 3500: Generator loss: 0.02715, Discriminator loss: 0.64675\n",
            "Figure(640x480)\n",
            "Figure(640x480)\n",
            "Figure(640x480)\n",
            "| ID | GPU | MEM |\n",
            "------------------\n",
            "|  0 | 61% |  6% |\n",
            "100% 313/313 [00:27<00:00, 11.52it/s]\n",
            " 78% 244/313 [00:21<00:05, 11.62it/s]Step 4000: Generator loss: 0.02710, Discriminator loss: 0.63591\n",
            "Figure(640x480)\n",
            "Figure(640x480)\n",
            "Figure(640x480)\n",
            "| ID | GPU | MEM |\n",
            "------------------\n",
            "|  0 | 62% |  6% |\n",
            "100% 313/313 [00:27<00:00, 11.49it/s]\n",
            "100% 313/313 [00:27<00:00, 11.50it/s]\n",
            " 38% 118/313 [00:10<00:16, 11.49it/s]Step 4500: Generator loss: 0.02700, Discriminator loss: 0.62368\n",
            "Figure(640x480)\n",
            "Figure(640x480)\n",
            "Figure(640x480)\n",
            "| ID | GPU | MEM |\n",
            "------------------\n",
            "|  0 | 45% |  6% |\n",
            "100% 313/313 [00:27<00:00, 11.47it/s]\n",
            " 97% 304/313 [00:26<00:00, 11.57it/s]Step 5000: Generator loss: 0.02703, Discriminator loss: 0.61056\n",
            "Figure(640x480)\n",
            "Figure(640x480)\n",
            "Figure(640x480)\n",
            "| ID | GPU | MEM |\n",
            "------------------\n",
            "|  0 | 60% |  6% |\n",
            "100% 313/313 [00:27<00:00, 11.50it/s]\n",
            "100% 313/313 [00:27<00:00, 11.57it/s]\n",
            " 57% 178/313 [00:15<00:11, 11.58it/s]Step 5500: Generator loss: 0.02699, Discriminator loss: 0.59658\n",
            "Figure(640x480)\n",
            "Figure(640x480)\n",
            "Figure(640x480)\n",
            "| ID | GPU | MEM |\n",
            "------------------\n",
            "|  0 | 69% |  6% |\n",
            "100% 313/313 [00:27<00:00, 11.48it/s]\n",
            "100% 313/313 [00:27<00:00, 11.54it/s]\n",
            " 17% 52/313 [00:04<00:22, 11.60it/s]Step 6000: Generator loss: 0.02683, Discriminator loss: 0.58007\n",
            "Figure(640x480)\n",
            "Figure(640x480)\n",
            "Figure(640x480)\n",
            "| ID | GPU | MEM |\n",
            "------------------\n",
            "|  0 | 63% |  6% |\n",
            "100% 313/313 [00:27<00:00, 11.53it/s]\n",
            " 77% 240/313 [00:20<00:06, 11.65it/s]Step 6500: Generator loss: 0.02695, Discriminator loss: 0.56250\n",
            "Figure(640x480)\n",
            "Figure(640x480)\n",
            "Figure(640x480)\n",
            "| ID | GPU | MEM |\n",
            "------------------\n",
            "|  0 | 40% |  6% |\n",
            "100% 313/313 [00:27<00:00, 11.54it/s]\n",
            "100% 313/313 [00:27<00:00, 11.55it/s]\n",
            " 36% 114/313 [00:09<00:17, 11.51it/s]Step 7000: Generator loss: 0.02681, Discriminator loss: 0.54388\n",
            "Figure(640x480)\n",
            "Figure(640x480)\n",
            "Figure(640x480)\n",
            "| ID | GPU | MEM |\n",
            "------------------\n",
            "|  0 | 70% |  6% |\n",
            "100% 313/313 [00:27<00:00, 11.55it/s]\n",
            " 96% 300/313 [00:25<00:01, 11.61it/s]Step 7500: Generator loss: 0.02671, Discriminator loss: 0.52296\n",
            "Figure(640x480)\n",
            "Figure(640x480)\n",
            "Figure(640x480)\n",
            "| ID | GPU | MEM |\n",
            "------------------\n",
            "|  0 | 62% |  6% |\n",
            "100% 313/313 [00:27<00:00, 11.47it/s]\n",
            "100% 313/313 [00:27<00:00, 11.53it/s]\n",
            " 56% 174/313 [00:14<00:11, 11.65it/s]Step 8000: Generator loss: 0.02681, Discriminator loss: 0.50193\n",
            "Figure(640x480)\n",
            "Figure(640x480)\n",
            "Figure(640x480)\n",
            "| ID | GPU | MEM |\n",
            "------------------\n",
            "|  0 | 76% |  6% |\n",
            "100% 313/313 [00:27<00:00, 11.56it/s]\n",
            "100% 313/313 [00:27<00:00, 11.56it/s]\n",
            " 15% 48/313 [00:04<00:22, 11.63it/s]Step 8500: Generator loss: 0.02672, Discriminator loss: 0.48167\n",
            "Figure(640x480)\n",
            "Figure(640x480)\n",
            "Figure(640x480)\n",
            "| ID | GPU | MEM |\n",
            "------------------\n",
            "|  0 | 60% |  6% |\n",
            "100% 313/313 [00:27<00:00, 11.46it/s]\n",
            " 75% 236/313 [00:20<00:06, 11.43it/s]Step 9000: Generator loss: 0.02661, Discriminator loss: 0.46025\n",
            "Figure(640x480)\n",
            "Figure(640x480)\n",
            "Figure(640x480)\n",
            "| ID | GPU | MEM |\n",
            "------------------\n",
            "|  0 | 42% |  6% |\n",
            "100% 313/313 [00:27<00:00, 11.48it/s]\n",
            "100% 313/313 [00:27<00:00, 11.56it/s]\n",
            " 35% 110/313 [00:09<00:17, 11.64it/s]Step 9500: Generator loss: 0.02654, Discriminator loss: 0.44084\n",
            "Figure(640x480)\n",
            "Figure(640x480)\n",
            "Figure(640x480)\n",
            "| ID | GPU | MEM |\n",
            "------------------\n",
            "|  0 | 64% |  6% |\n",
            "100% 313/313 [00:27<00:00, 11.49it/s]\n",
            " 95% 296/313 [00:25<00:01, 11.59it/s]Step 10000: Generator loss: 0.02672, Discriminator loss: 0.41902\n",
            "Figure(640x480)\n",
            "Figure(640x480)\n",
            "Figure(640x480)\n",
            "| ID | GPU | MEM |\n",
            "------------------\n",
            "|  0 | 63% |  6% |\n",
            "100% 313/313 [00:27<00:00, 11.49it/s]\n",
            "100% 313/313 [00:27<00:00, 11.54it/s]\n",
            " 54% 170/313 [00:14<00:12, 11.65it/s]Step 10500: Generator loss: 0.02646, Discriminator loss: 0.39959\n",
            "Figure(640x480)\n",
            "Figure(640x480)\n",
            "Figure(640x480)\n",
            "| ID | GPU | MEM |\n",
            "------------------\n",
            "|  0 | 61% |  6% |\n",
            "100% 313/313 [00:27<00:00, 11.54it/s]\n",
            "100% 313/313 [00:27<00:00, 11.57it/s]\n",
            " 14% 44/313 [00:03<00:23, 11.27it/s]Step 11000: Generator loss: 0.02656, Discriminator loss: 0.38037\n",
            "Figure(640x480)\n",
            "Figure(640x480)\n",
            "Figure(640x480)\n",
            "| ID | GPU | MEM |\n",
            "------------------\n",
            "|  0 | 67% |  6% |\n",
            "100% 313/313 [00:27<00:00, 11.45it/s]\n",
            " 74% 232/313 [00:20<00:07, 11.54it/s]Step 11500: Generator loss: 0.02633, Discriminator loss: 0.36277\n",
            "Figure(640x480)\n",
            "Figure(640x480)\n",
            "Figure(640x480)\n",
            "| ID | GPU | MEM |\n",
            "------------------\n",
            "|  0 | 74% |  6% |\n",
            "100% 313/313 [00:27<00:00, 11.51it/s]\n",
            "100% 313/313 [00:27<00:00, 11.59it/s]\n",
            " 34% 106/313 [00:09<00:17, 11.57it/s]Step 12000: Generator loss: 0.02634, Discriminator loss: 0.34335\n",
            "Figure(640x480)\n",
            "Figure(640x480)\n",
            "Figure(640x480)\n",
            "| ID | GPU | MEM |\n",
            "------------------\n",
            "|  0 | 52% |  6% |\n",
            "100% 313/313 [00:27<00:00, 11.44it/s]\n",
            " 93% 292/313 [00:25<00:01, 11.57it/s]Step 12500: Generator loss: 0.02642, Discriminator loss: 0.32382\n",
            "Figure(640x480)\n",
            "Figure(640x480)\n",
            "Figure(640x480)\n",
            "| ID | GPU | MEM |\n",
            "------------------\n",
            "|  0 | 62% |  6% |\n",
            "100% 313/313 [00:27<00:00, 11.46it/s]\n",
            "100% 313/313 [00:27<00:00, 11.51it/s]\n",
            " 53% 166/313 [00:14<00:12, 11.43it/s]Step 13000: Generator loss: 0.02625, Discriminator loss: 0.30518\n",
            "Figure(640x480)\n",
            "Figure(640x480)\n",
            "Figure(640x480)\n",
            "| ID | GPU | MEM |\n",
            "------------------\n",
            "|  0 | 59% |  6% |\n",
            "100% 313/313 [00:27<00:00, 11.43it/s]\n",
            "100% 313/313 [00:27<00:00, 11.50it/s]\n",
            " 13% 40/313 [00:03<00:23, 11.52it/s]Step 13500: Generator loss: 0.02633, Discriminator loss: 0.28807\n",
            "Figure(640x480)\n",
            "Figure(640x480)\n",
            "Figure(640x480)\n",
            "| ID | GPU | MEM |\n",
            "------------------\n",
            "|  0 | 62% |  6% |\n",
            "100% 313/313 [00:27<00:00, 11.42it/s]\n",
            " 73% 228/313 [00:19<00:07, 11.52it/s]Step 14000: Generator loss: 0.02620, Discriminator loss: 0.26953\n",
            "Figure(640x480)\n",
            "Figure(640x480)\n",
            "Figure(640x480)\n",
            "| ID | GPU | MEM |\n",
            "------------------\n",
            "|  0 | 74% |  6% |\n",
            "100% 313/313 [00:27<00:00, 11.45it/s]\n",
            "100% 313/313 [00:27<00:00, 11.34it/s]\n",
            " 33% 102/313 [00:08<00:18, 11.33it/s]Step 14500: Generator loss: 0.02624, Discriminator loss: 0.25179\n",
            "Figure(640x480)\n",
            "Figure(640x480)\n",
            "Figure(640x480)\n",
            "| ID | GPU | MEM |\n",
            "------------------\n",
            "|  0 | 55% |  6% |\n",
            "100% 313/313 [00:27<00:00, 11.29it/s]\n",
            " 92% 288/313 [00:25<00:02, 11.60it/s]Step 15000: Generator loss: 0.02614, Discriminator loss: 0.23503\n",
            "Figure(640x480)\n",
            "Figure(640x480)\n",
            "Figure(640x480)\n",
            "| ID | GPU | MEM |\n",
            "------------------\n",
            "|  0 | 66% |  6% |\n",
            "100% 313/313 [00:27<00:00, 11.43it/s]\n",
            "100% 313/313 [00:27<00:00, 11.47it/s]\n",
            " 52% 162/313 [00:14<00:13, 11.45it/s]Step 15500: Generator loss: 0.02619, Discriminator loss: 0.21890\n",
            "Figure(640x480)\n",
            "Figure(640x480)\n",
            "Figure(640x480)\n",
            "| ID | GPU | MEM |\n",
            "------------------\n",
            "|  0 | 31% |  6% |\n",
            "100% 313/313 [00:27<00:00, 11.37it/s]\n",
            "100% 313/313 [00:27<00:00, 11.44it/s]\n",
            " 12% 36/313 [00:03<00:23, 11.59it/s]Step 16000: Generator loss: 0.02598, Discriminator loss: 0.20336\n",
            "Figure(640x480)\n",
            "Figure(640x480)\n",
            "Figure(640x480)\n",
            "| ID | GPU | MEM |\n",
            "------------------\n",
            "|  0 | 72% |  6% |\n",
            "100% 313/313 [00:27<00:00, 11.42it/s]\n",
            " 72% 224/313 [00:19<00:07, 11.42it/s]Step 16500: Generator loss: 0.02618, Discriminator loss: 0.18818\n",
            "Figure(640x480)\n",
            "Figure(640x480)\n",
            "Figure(640x480)\n",
            "| ID | GPU | MEM |\n",
            "------------------\n",
            "|  0 | 63% |  6% |\n",
            "100% 313/313 [00:27<00:00, 11.38it/s]\n",
            "100% 313/313 [00:27<00:00, 11.50it/s]\n",
            " 31% 98/313 [00:08<00:18, 11.50it/s]Step 17000: Generator loss: 0.02594, Discriminator loss: 0.17306\n",
            "Figure(640x480)\n",
            "Figure(640x480)\n",
            "Figure(640x480)\n",
            "| ID | GPU | MEM |\n",
            "------------------\n",
            "|  0 | 61% |  6% |\n",
            "100% 313/313 [00:27<00:00, 11.42it/s]\n",
            " 91% 284/313 [00:24<00:02, 11.37it/s]Step 17500: Generator loss: 0.02599, Discriminator loss: 0.16091\n",
            "Figure(640x480)\n",
            "Figure(640x480)\n",
            "Figure(640x480)\n",
            "| ID | GPU | MEM |\n",
            "------------------\n",
            "|  0 |  4% |  6% |\n",
            "100% 313/313 [00:27<00:00, 11.32it/s]\n",
            "100% 313/313 [00:27<00:00, 11.35it/s]\n",
            " 50% 158/313 [00:13<00:13, 11.19it/s]Step 18000: Generator loss: 0.02596, Discriminator loss: 0.14722\n",
            "Figure(640x480)\n",
            "Figure(640x480)\n",
            "Figure(640x480)\n",
            "| ID | GPU | MEM |\n",
            "------------------\n",
            "|  0 | 69% |  6% |\n",
            "100% 313/313 [00:27<00:00, 11.34it/s]\n",
            "100% 313/313 [00:27<00:00, 11.49it/s]\n",
            " 10% 32/313 [00:02<00:24, 11.43it/s]Step 18500: Generator loss: 0.02590, Discriminator loss: 0.13421\n",
            "Figure(640x480)\n",
            "Figure(640x480)\n",
            "Figure(640x480)\n",
            "| ID | GPU | MEM |\n",
            "------------------\n",
            "|  0 | 63% |  6% |\n",
            "100% 313/313 [00:27<00:00, 11.37it/s]\n",
            " 70% 220/313 [00:19<00:08, 11.50it/s]Step 19000: Generator loss: 0.02590, Discriminator loss: 0.12296\n",
            "Figure(640x480)\n",
            "Figure(640x480)\n",
            "Figure(640x480)\n",
            "| ID | GPU | MEM |\n",
            "------------------\n",
            "|  0 | 75% |  6% |\n",
            "100% 313/313 [00:27<00:00, 11.41it/s]\n",
            "100% 313/313 [00:27<00:00, 11.48it/s]\n",
            " 30% 94/313 [00:08<00:19, 11.44it/s]Step 19500: Generator loss: 0.02587, Discriminator loss: 0.11221\n",
            "Figure(640x480)\n",
            "Figure(640x480)\n",
            "Figure(640x480)\n",
            "| ID | GPU | MEM |\n",
            "------------------\n",
            "|  0 | 51% |  6% |\n",
            "100% 313/313 [00:27<00:00, 11.40it/s]\n",
            " 89% 280/313 [00:24<00:02, 11.29it/s]Step 20000: Generator loss: 0.02584, Discriminator loss: 0.10256\n",
            "Figure(640x480)\n",
            "Figure(640x480)\n",
            "Figure(640x480)\n",
            "| ID | GPU | MEM |\n",
            "------------------\n",
            "|  0 | 67% |  6% |\n",
            "100% 313/313 [00:27<00:00, 11.35it/s]\n",
            "100% 313/313 [00:27<00:00, 11.47it/s]\n",
            " 49% 154/313 [00:13<00:13, 11.49it/s]Step 20500: Generator loss: 0.02577, Discriminator loss: 0.09246\n",
            "Figure(640x480)\n",
            "Figure(640x480)\n",
            "Figure(640x480)\n",
            "| ID | GPU | MEM |\n",
            "------------------\n",
            "|  0 | 71% |  6% |\n",
            "100% 313/313 [00:27<00:00, 11.37it/s]\n",
            "100% 313/313 [00:27<00:00, 11.43it/s]\n",
            "  9% 28/313 [00:02<00:24, 11.47it/s]Step 21000: Generator loss: 0.02579, Discriminator loss: 0.08411\n",
            "Figure(640x480)\n",
            "Figure(640x480)\n",
            "Figure(640x480)\n",
            "| ID | GPU | MEM |\n",
            "------------------\n",
            "|  0 | 65% |  6% |\n",
            "100% 313/313 [00:27<00:00, 11.39it/s]\n",
            " 69% 216/313 [00:18<00:08, 11.52it/s]Step 21500: Generator loss: 0.02576, Discriminator loss: 0.07602\n",
            "Figure(640x480)\n",
            "Figure(640x480)\n",
            "Figure(640x480)\n",
            "| ID | GPU | MEM |\n",
            "------------------\n",
            "|  0 | 61% |  6% |\n",
            "100% 313/313 [00:27<00:00, 11.33it/s]\n",
            "100% 313/313 [00:27<00:00, 11.33it/s]\n",
            " 29% 90/313 [00:07<00:19, 11.24it/s]Step 22000: Generator loss: 0.02575, Discriminator loss: 0.06875\n",
            "Figure(640x480)\n",
            "Figure(640x480)\n",
            "Figure(640x480)\n",
            "| ID | GPU | MEM |\n",
            "------------------\n",
            "|  0 | 70% |  6% |\n",
            "100% 313/313 [00:27<00:00, 11.37it/s]\n",
            " 88% 276/313 [00:24<00:03, 11.34it/s]Step 22500: Generator loss: 0.02561, Discriminator loss: 0.06193\n",
            "Figure(640x480)\n",
            "Figure(640x480)\n",
            "Figure(640x480)\n",
            "| ID | GPU | MEM |\n",
            "------------------\n",
            "|  0 | 36% |  6% |\n",
            "100% 313/313 [00:27<00:00, 11.36it/s]\n",
            " 94% 294/313 [00:25<00:01, 11.32it/s]"
          ]
        }
      ]
    },
    {
      "cell_type": "markdown",
      "source": [
        "## ⭐️ 학습된 이미지 결과를 확인해볼까요? ⭐️ \n",
        "\n",
        "- 학습을 200.000번 했을거예요!\n",
        "- 500번씩 나누어서 이미지를 저장했어요!\n",
        "- epoch 을 1 ~ 400 을 넣어주세요\n"
      ],
      "metadata": {
        "id": "GC09zLR8MORR"
      }
    },
    {
      "cell_type": "code",
      "source": [
        "%cd /content/SRGAN-From-Scratch\n",
        "from utils import show_images\n",
        "\n",
        "# 요기요기요기요기\n",
        "# 400번 돌렸어요!\n",
        "\n",
        "epoch = 1\n",
        "\n",
        "print('====진짜 저화질 이미지====')\n",
        "show_images(f'./img_srg/lr_real/lr_real_{epoch*500}.jpg')\n",
        "print('====진짜 고화질 이미지====')\n",
        "show_images(f'./img_srg/hr_real/hr_real_{epoch*500}.jpg')\n",
        "print('====우리가 생성한 가짜 고화질 이미지====')\n",
        "show_images(f'./img_srg/hr_fake/hr_fake_{epoch*500}.jpg')"
      ],
      "metadata": {
        "colab": {
          "base_uri": "https://localhost:8080/",
          "height": 304
        },
        "id": "kWi_Jm_CJa_o",
        "outputId": "576ec31d-6f46-4abd-d4c5-0a79348ed788"
      },
      "execution_count": 52,
      "outputs": [
        {
          "output_type": "stream",
          "name": "stdout",
          "text": [
            "/content/SRGAN-From-Scratch\n",
            "====진짜 저화질 이미지====\n"
          ]
        },
        {
          "output_type": "display_data",
          "data": {
            "text/plain": [
              "<PIL.Image.Image image mode=RGB size=24x24 at 0x7F0A94967730>"
            ],
            "image/png": "[encoded data removed]"
          },
          "metadata": {}
        },
        {
          "output_type": "stream",
          "name": "stdout",
          "text": [
            "====진짜 고화질 이미지====\n"
          ]
        },
        {
          "output_type": "display_data",
          "data": {
            "text/plain": [
              "<PIL.Image.Image image mode=RGB size=96x96 at 0x7F0A94967E80>"
            ],
            "image/png": "[encoded data removed]"
          },
          "metadata": {}
        },
        {
          "output_type": "stream",
          "name": "stdout",
          "text": [
            "====우리가 생성한 가짜 고화질 이미지====\n"
          ]
        },
        {
          "output_type": "display_data",
          "data": {
            "text/plain": [
              "<PIL.Image.Image image mode=RGB size=96x96 at 0x7F0A94967E20>"
            ],
            "image/png": "[encoded data removed]"
          },
          "metadata": {}
        }
      ]
    }
  ]
}